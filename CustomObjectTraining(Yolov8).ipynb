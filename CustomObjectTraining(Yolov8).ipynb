{
  "nbformat": 4,
  "nbformat_minor": 0,
  "metadata": {
    "colab": {
      "provenance": [],
      "gpuType": "T4",
      "authorship_tag": "ABX9TyNYRomAFwNJzqCDN32Pad2P",
      "include_colab_link": true
    },
    "kernelspec": {
      "name": "python3",
      "display_name": "Python 3"
    },
    "language_info": {
      "name": "python"
    },
    "accelerator": "GPU"
  },
  "cells": [
    {
      "cell_type": "markdown",
      "metadata": {
        "id": "view-in-github",
        "colab_type": "text"
      },
      "source": [
        "<a href=\"https://colab.research.google.com/github/Mochoye/Licence-Plate-Detection-using-TensorFlow-Lite/blob/main/CustomObjectTraining(Yolov8).ipynb\" target=\"_parent\"><img src=\"https://colab.research.google.com/assets/colab-badge.svg\" alt=\"Open In Colab\"/></a>"
      ]
    },
    {
      "cell_type": "code",
      "source": [
        "!pip install roboflow\n",
        "!pip install ultralytics"
      ],
      "metadata": {
        "id": "wtQ_mGizxYgs"
      },
      "execution_count": null,
      "outputs": []
    },
    {
      "cell_type": "code",
      "execution_count": null,
      "metadata": {
        "id": "V8_kgT-eyUUj"
      },
      "outputs": [],
      "source": [
        "from ultralytics import YOLO\n",
        "from roboflow import Roboflow\n"
      ]
    },
    {
      "cell_type": "markdown",
      "source": [
        "The dataset used :-\n",
        "[License Plate](https://universe.roboflow.com/snu-i6ovv/license-plate-detector-ogxxg)\n",
        "\n",
        "\n"
      ],
      "metadata": {
        "id": "jEp7cPpp2nmj"
      }
    },
    {
      "cell_type": "code",
      "source": [
        "#Roboflow License Plate / Your custom data -> Download This Dataset -> Show Download Code\n"
      ],
      "metadata": {
        "id": "gSewkq-sOUme"
      },
      "execution_count": null,
      "outputs": []
    },
    {
      "cell_type": "code",
      "source": [
        "%cd path_to_the_dataset_folder #For example if the downloaded code is stored in 'License-plate' folder  cd License-plate"
      ],
      "metadata": {
        "id": "a4WnuH0GOc7x"
      },
      "execution_count": null,
      "outputs": []
    },
    {
      "cell_type": "code",
      "source": [
        "model = YOLO(\"yolov8n.yaml\")\n",
        "\n",
        "results = model.train(data=\"data.yaml\",epochs=120)"
      ],
      "metadata": {
        "id": "LzZkHYqkOE5g"
      },
      "execution_count": null,
      "outputs": []
    },
    {
      "cell_type": "code",
      "source": [],
      "metadata": {
        "id": "065wOqfmftuY"
      },
      "execution_count": null,
      "outputs": []
    }
  ]
}